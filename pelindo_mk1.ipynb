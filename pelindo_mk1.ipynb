{
 "cells": [
  {
   "cell_type": "code",
   "execution_count": 1,
   "id": "6e91e5a0",
   "metadata": {},
   "outputs": [],
   "source": [
    "import pandas as pd\n",
    "import numpy as np\n",
    "pd.set_option('display.max_columns', None)\n",
    "pd.set_option('display.max_rows', None)"
   ]
  },
  {
   "cell_type": "code",
   "execution_count": 2,
   "id": "3568e4b5",
   "metadata": {},
   "outputs": [
    {
     "name": "stdout",
     "output_type": "stream",
     "text": [
      "<class 'pandas.core.frame.DataFrame'>\n",
      "RangeIndex: 534 entries, 0 to 533\n",
      "Data columns (total 16 columns):\n",
      " #   Column                        Non-Null Count  Dtype  \n",
      "---  ------                        --------------  -----  \n",
      " 0   Organization Name             534 non-null    object \n",
      " 1   User Name                     534 non-null    object \n",
      " 2   Unique Alphanumeric ID        12 non-null     object \n",
      " 3   User                          534 non-null    object \n",
      " 4   Model Code_Identification ID  534 non-null    object \n",
      " 5   Device Name                   534 non-null    object \n",
      " 6   Service Type                  534 non-null    object \n",
      " 7   Output Color                  534 non-null    object \n",
      " 8   Size                          534 non-null    object \n",
      " 9   Model Name                    534 non-null    object \n",
      " 10  AccountID                     534 non-null    object \n",
      " 11  Impressions                   534 non-null    int64  \n",
      " 12  Sheets                        534 non-null    int64  \n",
      " 13  Actual Paper Reduction        534 non-null    float64\n",
      " 14  Possible Paper Reduction      534 non-null    int64  \n",
      " 15  Jobs                          534 non-null    int64  \n",
      "dtypes: float64(1), int64(4), object(11)\n",
      "memory usage: 66.9+ KB\n"
     ]
    }
   ],
   "source": [
    "df_test = pd.read_excel(\n",
    "    r\"D:\\Astragraphia\\BO1\\Pelindo\\Zweite Entwicklung\\testing_mk1.xlsx\"\n",
    ")\n",
    "t = list(df_test.columns)\n",
    "df_test.info()"
   ]
  },
  {
   "cell_type": "code",
   "execution_count": 3,
   "id": "accd0755",
   "metadata": {},
   "outputs": [
    {
     "name": "stdout",
     "output_type": "stream",
     "text": [
      "<class 'pandas.core.frame.DataFrame'>\n",
      "RangeIndex: 534 entries, 0 to 533\n",
      "Data columns (total 17 columns):\n",
      " #   Column                    Non-Null Count  Dtype  \n",
      "---  ------                    --------------  -----  \n",
      " 0   Organization Name         534 non-null    object \n",
      " 1   User Name                 534 non-null    object \n",
      " 2   Unique Alphanumeric ID    12 non-null     object \n",
      " 3   User                      534 non-null    object \n",
      " 4   Device Name               534 non-null    object \n",
      " 5   Service Type              534 non-null    object \n",
      " 6   Output Color              534 non-null    object \n",
      " 7   Size                      534 non-null    object \n",
      " 8   Model Name                534 non-null    object \n",
      " 9   AccountID                 534 non-null    object \n",
      " 10  Impressions               534 non-null    int64  \n",
      " 11  Sheets                    534 non-null    int64  \n",
      " 12  Actual Paper Reduction    534 non-null    float64\n",
      " 13  Possible Paper Reduction  534 non-null    int64  \n",
      " 14  Jobs                      534 non-null    int64  \n",
      " 15  Model Code                534 non-null    object \n",
      " 16  Identification ID         534 non-null    object \n",
      "dtypes: float64(1), int64(4), object(12)\n",
      "memory usage: 71.1+ KB\n"
     ]
    }
   ],
   "source": [
    "df_test[t[4]] = df_test[t[4]].apply(lambda x:x.split('_'))\n",
    "df_test['Model Code'] = df_test[t[4]].apply(lambda x:x[0])\n",
    "df_test['Identification ID'] = df_test[t[4]].apply(lambda x:x[-1])\n",
    "df_test.drop(columns=t[4], inplace=True)\n",
    "df_test.info()"
   ]
  },
  {
   "cell_type": "code",
   "execution_count": 4,
   "id": "bb00896f",
   "metadata": {},
   "outputs": [
    {
     "name": "stdout",
     "output_type": "stream",
     "text": [
      "<class 'pandas.core.frame.DataFrame'>\n",
      "RangeIndex: 534 entries, 0 to 533\n",
      "Data columns (total 17 columns):\n",
      " #   Column                    Non-Null Count  Dtype  \n",
      "---  ------                    --------------  -----  \n",
      " 0   Organization Name         534 non-null    object \n",
      " 1   User Name                 534 non-null    object \n",
      " 2   Unique Alphanumeric ID    12 non-null     object \n",
      " 3   User                      534 non-null    object \n",
      " 4   Model Code                534 non-null    object \n",
      " 5   Identification ID         534 non-null    object \n",
      " 6   Device Name               534 non-null    object \n",
      " 7   Service Type              534 non-null    object \n",
      " 8   Output Color              534 non-null    object \n",
      " 9   Size                      534 non-null    object \n",
      " 10  Model Name                534 non-null    object \n",
      " 11  AccountID                 534 non-null    object \n",
      " 12  Impressions               534 non-null    int64  \n",
      " 13  Sheets                    534 non-null    int64  \n",
      " 14  Actual Paper Reduction    534 non-null    float64\n",
      " 15  Possible Paper Reduction  534 non-null    int64  \n",
      " 16  Jobs                      534 non-null    int64  \n",
      "dtypes: float64(1), int64(4), object(12)\n",
      "memory usage: 71.1+ KB\n"
     ]
    }
   ],
   "source": [
    "df_test = df_test[\n",
    "    [\n",
    "        t[0],\n",
    "        t[1],\n",
    "        t[2],\n",
    "        t[3],\n",
    "        'Model Code',\n",
    "        'Identification ID',\n",
    "        'Device Name',\n",
    "        'Service Type',\n",
    "        'Output Color',\n",
    "        'Size',\n",
    "        'Model Name',\n",
    "        'AccountID',\n",
    "        'Impressions',\n",
    "        'Sheets',\n",
    "        'Actual Paper Reduction',\n",
    "        'Possible Paper Reduction',\n",
    "        'Jobs'\n",
    "    ]\n",
    "]\n",
    "t = list(df_test.columns)\n",
    "df_test.info()"
   ]
  },
  {
   "cell_type": "code",
   "execution_count": 39,
   "id": "acf99b94",
   "metadata": {},
   "outputs": [],
   "source": [
    "# 1st Table\n",
    "#try:\n",
    "#    df_pivot = pd.pivot_table(data=df_test, index = t[6], columns = [t[8]], values = t[12], aggfunc = sum).fillna(0).astype(int)\n",
    "#except Exception as e:\n",
    "#    print('Error Detected:',e)\n",
    "\n",
    "dev_group = df_test.groupby([t[6],t[8]])[[t[16],t[12]]].sum()"
   ]
  },
  {
   "cell_type": "code",
   "execution_count": 41,
   "id": "93d486ba",
   "metadata": {},
   "outputs": [],
   "source": [
    "#df_pivot\n",
    "dev_group_re = dev_group.reset_index()"
   ]
  },
  {
   "cell_type": "code",
   "execution_count": null,
   "id": "bc16ee15",
   "metadata": {},
   "outputs": [],
   "source": [
    "dev_group_re.to_excel(\n",
    ")"
   ]
  }
 ],
 "metadata": {
  "kernelspec": {
   "display_name": "Python 3 (ipykernel)",
   "language": "python",
   "name": "python3"
  },
  "language_info": {
   "codemirror_mode": {
    "name": "ipython",
    "version": 3
   },
   "file_extension": ".py",
   "mimetype": "text/x-python",
   "name": "python",
   "nbconvert_exporter": "python",
   "pygments_lexer": "ipython3",
   "version": "3.11.5"
  }
 },
 "nbformat": 4,
 "nbformat_minor": 5
}
